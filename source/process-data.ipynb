{
 "cells": [
  {
   "cell_type": "markdown",
   "metadata": {},
   "source": [
    "## Imports and definitions"
   ]
  },
  {
   "cell_type": "code",
   "execution_count": 1,
   "metadata": {
    "collapsed": false
   },
   "outputs": [],
   "source": [
    "import sys, os, glob, time, requests, json\n",
    "from time import time, strftime\n",
    "from tqdm import tqdm, trange\n",
    "\n",
    "import numpy as np\n",
    "from numpy.random import *\n",
    "import pandas as pd\n",
    "\n",
    "import matplotlib\n",
    "import matplotlib.pyplot as plt\n",
    "%matplotlib inline\n",
    "\n",
    "import folium\n",
    "from folium import plugins, Map, CircleMarker"
   ]
  },
  {
   "cell_type": "code",
   "execution_count": 2,
   "metadata": {
    "collapsed": true
   },
   "outputs": [],
   "source": [
    "dataDir = '../data/'\n",
    "buildDir = '../build/'\n",
    "\n",
    "downloadsDir = '../downloads/'\n",
    "metadataDir = '../metadata/'\n",
    "archiveDir = '../archive/'"
   ]
  },
  {
   "cell_type": "markdown",
   "metadata": {},
   "source": [
    "## Analyze data"
   ]
  },
  {
   "cell_type": "code",
   "execution_count": 4,
   "metadata": {
    "collapsed": false
   },
   "outputs": [
    {
     "name": "stdout",
     "output_type": "stream",
     "text": [
      "<class 'pandas.core.frame.DataFrame'>\n",
      "Int64Index: 508 entries, 72 to 3249\n",
      "Data columns (total 5 columns):\n",
      "latitude       508 non-null float64\n",
      "longitude      508 non-null float64\n",
      "stationName    508 non-null object\n",
      "statusValue    508 non-null object\n",
      "totalDocks     508 non-null int64\n",
      "dtypes: float64(2), int64(1), object(2)\n",
      "memory usage: 23.8+ KB\n"
     ]
    }
   ],
   "source": [
    "stations = pd.read_csv(os.path.join(metadataDir, 'stations.csv'), index_col='id')\n",
    "stations.info()"
   ]
  },
  {
   "cell_type": "code",
   "execution_count": null,
   "metadata": {
    "collapsed": false
   },
   "outputs": [
    {
     "name": "stderr",
     "output_type": "stream",
     "text": [
      " 42%|████▏     | 5/12 [00:06<00:10,  1.50s/it]"
     ]
    }
   ],
   "source": [
    "%%time\n",
    "\n",
    "dfArray = []\n",
    "\n",
    "files = glob.glob(os.path.join(downloadsDir, '*.csv'))\n",
    "for fileName in tqdm(files):\n",
    "    df = pd.read_csv(fileName)\n",
    "    dfArray.append(df)"
   ]
  },
  {
   "cell_type": "code",
   "execution_count": null,
   "metadata": {
    "collapsed": false
   },
   "outputs": [],
   "source": [
    "%%time\n",
    "dfFull = pd.concat(dfArray, ignore_index=True)\n",
    "dfFull.info()"
   ]
  },
  {
   "cell_type": "code",
   "execution_count": null,
   "metadata": {
    "collapsed": false
   },
   "outputs": [],
   "source": [
    "reset_selective dfArray"
   ]
  },
  {
   "cell_type": "code",
   "execution_count": null,
   "metadata": {
    "collapsed": false
   },
   "outputs": [],
   "source": [
    "maxNormalTime = 6 * 60 * 60\n",
    "\n",
    "fieldsToExtract = ['tripduration', 'start station id', 'start station name',\n",
    "                   'start station latitude', 'start station longitude']\n",
    "\n",
    "df = dfFull.loc[dfFull.tripduration <= maxNormalTime, fieldsToExtract\n",
    "                ].groupby('start station id').agg(    \n",
    "    {'tripduration': {'dep_count': 'count',\n",
    "                      'dep_mean': 'mean',\n",
    "                      'dep_min': 'min',\n",
    "                      'dep_max': 'max',\n",
    "                      'dep_median': 'median'\n",
    "                      },\n",
    "     'start station name': {'name': 'first'},\n",
    "     'start station latitude': {'latitude': 'first'},\n",
    "     'start station longitude': {'longitude': 'first'}})\n",
    "\n",
    "df.index.name = 'id'\n",
    "df.columns = df.columns.get_level_values(1)\n",
    "df = df[['name', 'latitude', 'longitude', 'dep_count', 'dep_mean', 'dep_min', 'dep_max', 'dep_median']]\n",
    "\n",
    "dfDep = df"
   ]
  },
  {
   "cell_type": "code",
   "execution_count": null,
   "metadata": {
    "collapsed": true
   },
   "outputs": [],
   "source": [
    "fieldsToExtract = ['tripduration', 'end station id']\n",
    "\n",
    "df = dfFull.loc[dfFull.tripduration <= maxNormalTime, fieldsToExtract\n",
    "                ].groupby('end station id').agg(    \n",
    "    {'tripduration': {'arr_count': 'count',\n",
    "                      'arr_mean': 'mean',\n",
    "                      'arr_min': 'min',\n",
    "                      'arr_max': 'max',\n",
    "                      'arr_median': 'median'\n",
    "                      }})\n",
    "\n",
    "df.index.name = 'id'\n",
    "df.columns = df.columns.get_level_values(1)\n",
    "df = df[['arr_count', 'arr_mean', 'arr_min', 'arr_max', 'arr_median']]\n",
    "\n",
    "dfArr = df"
   ]
  },
  {
   "cell_type": "code",
   "execution_count": 9,
   "metadata": {
    "collapsed": false
   },
   "outputs": [],
   "source": [
    "df = dfDep.join(dfArr, how='left').join(stations[['statusValue', 'totalDocks']], how='left')"
   ]
  },
  {
   "cell_type": "code",
   "execution_count": 10,
   "metadata": {
    "collapsed": false
   },
   "outputs": [
    {
     "name": "stdout",
     "output_type": "stream",
     "text": [
      "Once deleted, variables cannot be recovered. Proceed (y/[n])?  y\n"
     ]
    }
   ],
   "source": [
    "reset_selective dfArr"
   ]
  },
  {
   "cell_type": "code",
   "execution_count": 11,
   "metadata": {
    "collapsed": false
   },
   "outputs": [
    {
     "name": "stdout",
     "output_type": "stream",
     "text": [
      "Once deleted, variables cannot be recovered. Proceed (y/[n])?  y\n"
     ]
    }
   ],
   "source": [
    "reset_selective dfDep"
   ]
  },
  {
   "cell_type": "code",
   "execution_count": 12,
   "metadata": {
    "collapsed": false
   },
   "outputs": [
    {
     "name": "stdout",
     "output_type": "stream",
     "text": [
      "<class 'pandas.core.frame.DataFrame'>\n",
      "Int64Index: 488 entries, 72 to 3242\n",
      "Data columns (total 15 columns):\n",
      "name           488 non-null object\n",
      "latitude       488 non-null float64\n",
      "longitude      488 non-null float64\n",
      "dep_count      488 non-null int64\n",
      "dep_mean       488 non-null float64\n",
      "dep_min        488 non-null int64\n",
      "dep_max        488 non-null int64\n",
      "dep_median     488 non-null float64\n",
      "arr_count      488 non-null int64\n",
      "arr_mean       488 non-null float64\n",
      "arr_min        488 non-null int64\n",
      "arr_max        488 non-null int64\n",
      "arr_median     488 non-null float64\n",
      "statusValue    488 non-null object\n",
      "totalDocks     488 non-null int64\n",
      "dtypes: float64(6), int64(7), object(2)\n",
      "memory usage: 61.0+ KB\n"
     ]
    }
   ],
   "source": [
    "df.loc[3120, 'name'] = 'Center Blvd & Borden Ave'\n",
    "\n",
    "df.loc[df.statusValue.isnull(), 'statusValue'] = 'In Service'\n",
    "df.loc[(df.totalDocks.isnull()) | (df.totalDocks == 0), 'totalDocks'] = df[df.totalDocks != 0, 'totalDocks'].mean()\n",
    "\n",
    "df.totalDocks = df.totalDocks.astype(int)\n",
    "\n",
    "df.info()"
   ]
  },
  {
   "cell_type": "code",
   "execution_count": 13,
   "metadata": {
    "collapsed": true
   },
   "outputs": [],
   "source": [
    "df.to_csv(os.path.join(dataDir, 'trips-pivot.csv'))"
   ]
  }
 ],
 "metadata": {
  "kernelspec": {
   "display_name": "Python 2",
   "language": "python",
   "name": "python2"
  },
  "language_info": {
   "codemirror_mode": {
    "name": "ipython",
    "version": 2
   },
   "file_extension": ".py",
   "mimetype": "text/x-python",
   "name": "python",
   "nbconvert_exporter": "python",
   "pygments_lexer": "ipython2",
   "version": "2.7.11"
  }
 },
 "nbformat": 4,
 "nbformat_minor": 0
}
