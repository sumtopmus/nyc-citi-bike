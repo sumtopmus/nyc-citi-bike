{
 "cells": [
  {
   "cell_type": "markdown",
   "metadata": {},
   "source": [
    "## Load and preprocess data"
   ]
  },
  {
   "cell_type": "code",
   "execution_count": 58,
   "metadata": {
    "collapsed": false
   },
   "outputs": [
    {
     "name": "stdout",
     "output_type": "stream",
     "text": [
      "https://s3.amazonaws.com/tripdata/201401-citibike-tripdata.zip\n"
     ]
    }
   ],
   "source": [
    "import os, glob, re\n",
    "\n",
    "downloadsDir = '../downloads/'\n",
    "metadownloadsDir = '../metadata/'\n",
    "archiveDir = \"../archive/\"\n",
    "\n",
    "dataURLTemplate = \"https://s3.amazonaws.com/tripdata/{year:04d}{month:02d}-citibike-tripdata.zip\"\n",
    "\n",
    "print dataURLTemplate.format(year=2014, month=1)"
   ]
  },
  {
   "cell_type": "code",
   "execution_count": 101,
   "metadata": {
    "collapsed": false
   },
   "outputs": [
    {
     "name": "stdout",
     "output_type": "stream",
     "text": [
      "../data/201307-citibike-tripdata.zip\n",
      "  % Total    % Received % Xferd  Average Speed   Time    Time     Time  Current\n",
      "                                 Dload  Upload   Total   Spent    Left  Speed\n",
      "100 25.8M  100 25.8M    0     0  2111k      0  0:00:12  0:00:12 --:--:-- 2568k\n",
      "Archive:  ../data/201307-citibike-tripdata.zip\n",
      "  inflating: ../data/2013-07 - Citi Bike trip data.csv  \n",
      "../data/201308-citibike-tripdata.zip\n",
      "  % Total    % Received % Xferd  Average Speed   Time    Time     Time  Current\n",
      "                                 Dload  Upload   Total   Spent    Left  Speed\n",
      "100 30.6M  100 30.6M    0     0  2383k      0  0:00:13  0:00:13 --:--:-- 2635k\n",
      "Archive:  ../data/201308-citibike-tripdata.zip\n",
      "  inflating: ../data/2013-08 - Citi Bike trip data.csv  \n",
      "../data/201309-citibike-tripdata.zip\n",
      "  % Total    % Received % Xferd  Average Speed   Time    Time     Time  Current\n",
      "                                 Dload  Upload   Total   Spent    Left  Speed\n",
      "100 31.6M  100 31.6M    0     0  2311k      0  0:00:14  0:00:14 --:--:-- 2653k\n",
      "Archive:  ../data/201309-citibike-tripdata.zip\n",
      "  inflating: ../data/2013-09 - Citi Bike trip data.csv  \n",
      "../data/201310-citibike-tripdata.zip\n",
      "  % Total    % Received % Xferd  Average Speed   Time    Time     Time  Current\n",
      "                                 Dload  Upload   Total   Spent    Left  Speed\n",
      "100 31.5M  100 31.5M    0     0  2243k      0  0:00:14  0:00:14 --:--:-- 2226k\n",
      "Archive:  ../data/201310-citibike-tripdata.zip\n",
      "  inflating: ../data/2013-10 - Citi Bike trip data.csv  \n",
      "../data/201311-citibike-tripdata.zip\n",
      "  % Total    % Received % Xferd  Average Speed   Time    Time     Time  Current\n",
      "                                 Dload  Upload   Total   Spent    Left  Speed\n",
      "100 20.6M  100 20.6M    0     0  2197k      0  0:00:09  0:00:09 --:--:-- 2667k\n",
      "Archive:  ../data/201311-citibike-tripdata.zip\n",
      "  inflating: ../data/2013-11 - Citi Bike trip data.csv  \n",
      "../data/201312-citibike-tripdata.zip\n",
      "  % Total    % Received % Xferd  Average Speed   Time    Time     Time  Current\n",
      "                                 Dload  Upload   Total   Spent    Left  Speed\n",
      "100 13.6M  100 13.6M    0     0  2072k      0  0:00:06  0:00:06 --:--:-- 2372k\n",
      "Archive:  ../data/201312-citibike-tripdata.zip\n",
      "  inflating: ../data/2013-12 - Citi Bike trip data.csv  \n",
      "../data/201601-citibike-tripdata.zip\n",
      "  % Total    % Received % Xferd  Average Speed   Time    Time     Time  Current\n",
      "                                 Dload  Upload   Total   Spent    Left  Speed\n",
      "100 16.9M  100 16.9M    0     0  2374k      0  0:00:07  0:00:07 --:--:-- 2624k\n",
      "Archive:  ../data/201601-citibike-tripdata.zip\n",
      "  inflating: ../data/201601-citibike-tripdata.csv  \n",
      "../data/201602-citibike-tripdata.zip\n",
      "  % Total    % Received % Xferd  Average Speed   Time    Time     Time  Current\n",
      "                                 Dload  Upload   Total   Spent    Left  Speed\n",
      "100 18.7M  100 18.7M    0     0  2131k      0  0:00:09  0:00:09 --:--:-- 2420k\n",
      "Archive:  ../data/201602-citibike-tripdata.zip\n",
      "  inflating: ../data/201602-citibike-tripdata.csv  \n"
     ]
    }
   ],
   "source": [
    "if not os.path.exists(downloadsDir):\n",
    "    os.makedirs(downloadsDir)\n",
    "if not os.path.exists(archiveDir):\n",
    "    os.makedirs(archiveDir)\n",
    "\n",
    "def loadData(year, month):\n",
    "    dataURL = dataURLTemplate.format(year=year, month=month)\n",
    "    fileName = dataURL.rsplit('/', 1)[-1]\n",
    "    fullPath = os.path.join(downloadsDir, fileName)\n",
    "    !curl -o '{fullPath}' '{dataLink}'\n",
    "    !unzip -o -d '{downloadsDir}' '{fullPath}'\n",
    "    !mv -f '{fullPath}' '{archiveDir}'\n",
    "\n",
    "# load all available months\n",
    "for month in range(7, 13):\n",
    "    loadData(2013, month)    \n",
    "for year in range(2014, 2016):\n",
    "    for month in range(1, 13):\n",
    "        loadData(year, month)\n",
    "for month in range(1, 3):\n",
    "    loadData(2016, month)\n",
    "    \n",
    "# rename badly named files\n",
    "pattern = re.compile('(?P<year>\\d{4})-?(?P<month>\\d{2})')\n",
    "for fileName in glob.glob(os.path.join(downloadsDir, '*.csv')):\n",
    "    search = pattern.search(fileName)\n",
    "    newFileName = '{year:04d}-{month:02d}.csv'.format(\n",
    "        year=search.group('year'), month=search.group('month'))\n",
    "    fullPath = os.path.join(downloadsDir, newFileName)\n",
    "    !mv -f \"{fileName}\" \"{fullPath}\""
   ]
  },
  {
   "cell_type": "markdown",
   "metadata": {},
   "source": [
    "## Load stations info"
   ]
  },
  {
   "cell_type": "code",
   "execution_count": null,
   "metadata": {
    "collapsed": true
   },
   "outputs": [],
   "source": [
    "stationsUrl = 'http://www.citibikenyc.com/stations/json'\n",
    "response = requests.get(stationsUrl)\n",
    "stationsJSON = response.json()\n",
    "\n",
    "stations = pd.DataFrame(stationsJSON['stationBeanList']).set_index('id')\n",
    "stations = stations[['latitude', 'longitude', 'stationName', 'statusValue', 'totalDocks']]\n",
    "\n",
    "stations.to_csv(os.path.join(archiveDir, 'stations-{}.csv'.format(strftime('%Y-%m-%d-%H%M%S'))))\n",
    "stations.to_csv(os.path.join(metadownloadsDir, 'stations.csv'))"
   ]
  },
  {
   "cell_type": "code",
   "execution_count": null,
   "metadata": {
    "collapsed": true
   },
   "outputs": [],
   "source": []
  },
  {
   "cell_type": "code",
   "execution_count": 26,
   "metadata": {
    "collapsed": true
   },
   "outputs": [],
   "source": [
    "from IPython.display import Audio\n",
    "\n",
    "sound = '../sound-1.wav'"
   ]
  },
  {
   "cell_type": "code",
   "execution_count": 27,
   "metadata": {
    "collapsed": false
   },
   "outputs": [
    {
     "data": {
      "text/html": [
       "\n",
       "                <audio controls=\"controls\" autoplay=\"autoplay\">\n",
       "                    <source src=\"../sound-2.wav\" type=\"audio/x-wav\" />\n",
       "                    Your browser does not support the audio element.\n",
       "                </audio>\n",
       "              "
      ],
      "text/plain": [
       "<IPython.lib.display.Audio object>"
      ]
     },
     "execution_count": 27,
     "metadata": {},
     "output_type": "execute_result"
    }
   ],
   "source": [
    "Audio(url=sound, autoplay=True)"
   ]
  },
  {
   "cell_type": "code",
   "execution_count": 19,
   "metadata": {
    "collapsed": false
   },
   "outputs": [
    {
     "data": {
      "text/plain": [
       "u'/Users/theconqueror/data/nyc-citi-bike/source'"
      ]
     },
     "execution_count": 19,
     "metadata": {},
     "output_type": "execute_result"
    }
   ],
   "source": [
    "pwd"
   ]
  },
  {
   "cell_type": "code",
   "execution_count": null,
   "metadata": {
    "collapsed": true
   },
   "outputs": [],
   "source": []
  }
 ],
 "metadata": {
  "kernelspec": {
   "display_name": "Python 2",
   "language": "python",
   "name": "python2"
  },
  "language_info": {
   "codemirror_mode": {
    "name": "ipython",
    "version": 2
   },
   "file_extension": ".py",
   "mimetype": "text/x-python",
   "name": "python",
   "nbconvert_exporter": "python",
   "pygments_lexer": "ipython2",
   "version": "2.7.11"
  }
 },
 "nbformat": 4,
 "nbformat_minor": 0
}
